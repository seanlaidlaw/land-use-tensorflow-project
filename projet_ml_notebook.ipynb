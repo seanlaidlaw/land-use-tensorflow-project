{
  "nbformat": 4,
  "nbformat_minor": 0,
  "metadata": {
    "colab": {
      "name": "ProjetML.ipynb",
      "provenance": []
    },
    "kernelspec": {
      "name": "python3",
      "display_name": "Python 3"
    }
  },
  "cells": [
    {
      "cell_type": "markdown",
      "metadata": {
        "id": "VlV7oHi9Z3-7"
      },
      "source": [
        "**Projet HMIN339M:**\n",
        "A tensorflow project to analyse land use in the Dordogne region over time."
      ]
    },
    {
      "cell_type": "code",
      "metadata": {
        "id": "o1M14_KqZ-bQ"
      },
      "source": [
        ""
      ],
      "execution_count": null,
      "outputs": []
    }
  ]
}
